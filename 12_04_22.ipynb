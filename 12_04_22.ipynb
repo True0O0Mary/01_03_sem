{
  "nbformat": 4,
  "nbformat_minor": 0,
  "metadata": {
    "colab": {
      "name": "12/04/22.ipynb",
      "provenance": [],
      "authorship_tag": "ABX9TyNJBiY2WILVuRtEeOlzyti0",
      "include_colab_link": true
    },
    "kernelspec": {
      "name": "python3",
      "display_name": "Python 3"
    },
    "language_info": {
      "name": "python"
    }
  },
  "cells": [
    {
      "cell_type": "markdown",
      "metadata": {
        "id": "view-in-github",
        "colab_type": "text"
      },
      "source": [
        "<a href=\"https://colab.research.google.com/github/True0O0Mary/01_03_sem/blob/main/12_04_22.ipynb\" target=\"_parent\"><img src=\"https://colab.research.google.com/assets/colab-badge.svg\" alt=\"Open In Colab\"/></a>"
      ]
    },
    {
      "cell_type": "markdown",
      "source": [
        "19) Написать декоратор flip, который переставляет аргументы декорируемой функции в обратном порядке (функция не имеет именованых аргументов)."
      ],
      "metadata": {
        "id": "9sdkAHJZdp1p"
      }
    },
    {
      "cell_type": "code",
      "source": [
        "def flip(func):\n",
        "  def wrapper(*args):\n",
        "    s = list(args)\n",
        "    return s[::-1]\n",
        "  return wrapper\n",
        "\n",
        "@flip\n",
        "def f(*args):\n",
        "  return args\n",
        "\n",
        "g = f(0, 1, 1,2)\n",
        "print(*g)\n"
      ],
      "metadata": {
        "colab": {
          "base_uri": "https://localhost:8080/"
        },
        "id": "hK9cvkJ3dr-p",
        "outputId": "64e4a24d-96a7-4b6c-ffce-d4dd78820a2f"
      },
      "execution_count": 7,
      "outputs": [
        {
          "output_type": "stream",
          "name": "stdout",
          "text": [
            "2 1 1 0\n"
          ]
        }
      ]
    },
    {
      "cell_type": "markdown",
      "source": [
        "20) Провести расчет суммы четных чисел от 2 до 2 000 000 не создавая структур данных, хранящих эти числа."
      ],
      "metadata": {
        "id": "VRvAsT9Kfbzb"
      }
    },
    {
      "cell_type": "code",
      "source": [
        "def summa():\n",
        "  return ((2 + 2*10**6)*10**6) //2\n",
        "print(summa())\n"
      ],
      "metadata": {
        "colab": {
          "base_uri": "https://localhost:8080/"
        },
        "id": "9ITr14uHfdw6",
        "outputId": "d0bdadff-86da-4d67-cc9d-1120d8e419e8"
      },
      "execution_count": 9,
      "outputs": [
        {
          "output_type": "stream",
          "name": "stdout",
          "text": [
            "1000001000000\n"
          ]
        }
      ]
    },
    {
      "cell_type": "markdown",
      "source": [
        "21) Написать компактный код, порождающий список вида:\n",
        "\n",
        "[3, ...(20 элементов)..., 3, 6, ...(20 элементов)..., 6, 9, ...(20 элементов)..., 9, 12, ...(20 элементов)..., 12]\n",
        "\n",
        "Код должно быть легко модифицировать, чтобы менять количество повторений элементов, количество разных элементов, и шаг с которым изменются элементы. Например, легко можно получить последовательность:\n",
        "\n",
        "[4, ...(10 элементов)..., 4, 9, ...(10 элементов)..., 9]"
      ],
      "metadata": {
        "id": "Ko6ptdREgaia"
      }
    },
    {
      "cell_type": "code",
      "source": [
        "def sequence(start, end, step, quantity):\n",
        "  lis = []\n",
        "  for i in range(start, end+1, step):\n",
        "    lis.extend([i]*quantity)\n",
        "  return lis\n",
        "print(sequence(3, 12, 3, 20))"
      ],
      "metadata": {
        "colab": {
          "base_uri": "https://localhost:8080/"
        },
        "id": "ktN1vr9dgcwM",
        "outputId": "c71fa388-88c2-4ca0-9165-b8e8160b74b7"
      },
      "execution_count": 11,
      "outputs": [
        {
          "output_type": "stream",
          "name": "stdout",
          "text": [
            "[3, 3, 3, 3, 3, 3, 3, 3, 3, 3, 3, 3, 3, 3, 3, 3, 3, 3, 3, 3, 6, 6, 6, 6, 6, 6, 6, 6, 6, 6, 6, 6, 6, 6, 6, 6, 6, 6, 6, 6, 9, 9, 9, 9, 9, 9, 9, 9, 9, 9, 9, 9, 9, 9, 9, 9, 9, 9, 9, 9, 12, 12, 12, 12, 12, 12, 12, 12, 12, 12, 12, 12, 12, 12, 12, 12, 12, 12, 12, 12]\n"
          ]
        }
      ]
    }
  ]
}